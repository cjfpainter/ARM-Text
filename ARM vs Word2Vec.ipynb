{
 "cells": [
  {
   "cell_type": "markdown",
   "metadata": {},
   "source": [
    "## Comparing Association Rules to Word2Vec models\n",
    "\n",
    "### Required packages\n",
    "\n",
    "Use Pip to install: \n",
    "* The fim package from Christian Borgelt  http://www.borgelt.net/fpm.html\n",
    "* The gensim package from Radim Hurek http://radimrehurek.com/gensim/models/word2vec.html"
   ]
  },
  {
   "cell_type": "code",
   "execution_count": 4,
   "metadata": {
    "collapsed": false,
    "nbpresent": {
     "id": "db68c180-68bf-4bdd-a496-d1d3cace19a6"
    },
    "scrolled": true
   },
   "outputs": [],
   "source": [
    "import  fim, gensim, gensim.corpora"
   ]
  },
  {
   "cell_type": "code",
   "execution_count": 5,
   "metadata": {
    "collapsed": false
   },
   "outputs": [],
   "source": [
    "from fim import arules\n",
    "from gensim.corpora import Dictionary"
   ]
  },
  {
   "cell_type": "markdown",
   "metadata": {},
   "source": [
    "### Inputs & Pre-process\n",
    "* Vectors of words\n",
    "* Dictionary and word index"
   ]
  },
  {
   "cell_type": "code",
   "execution_count": 6,
   "metadata": {
    "collapsed": false,
    "scrolled": false
   },
   "outputs": [],
   "source": [
    "sentences = [\n",
    "    ['Century', 'Developed', 'Easily', 'Field', \n",
    "     'Formalize', 'Logic', 'Mathematical', \n",
    "     'Mathematics', 'Reasoning', 'Symbols'], \n",
    "    ['Dilemma', 'Disambiguation', 'Good', \n",
    "     'Group', 'Logic', 'Mathematics',\n",
    "    'Meanings', 'Problems', 'Solutions', 'Song'], \n",
    "    ['Called', 'Diagram', 'Disjunction', \n",
    "     'Displaystyle', 'Exclusive', 'False',\n",
    "    'Inclusive', 'Inputs', 'Logic', 'Lor', \n",
    "     'Operation', 'Scriptstyle', 'Takes',\n",
    "    'True', 'Venn'], \n",
    "    ['ASCII', 'ATL', 'Cote', 'False', 'Flips',\n",
    "     'Input', 'Logic', 'Logical','Negation', \n",
    "     'Operation', 'Output', 'Returns', 'Takes', 'True'], \n",
    "    ['Block', 'Called', 'Component', 'Configurable',\n",
    "     'Configured', 'FPGA','Gates', 'Hold', \n",
    "     'Interconnected', 'Logic', 'Number', 'Simplified'], \n",
    "    ['Constructed', 'Engineered', 'Experiment',\n",
    "     'Experimental', 'Language','Languages', \n",
    "     'Linguistics', 'Logic', 'Logical', 'Philosophical', \n",
    "    'Philosophy', 'Types'], \n",
    "    ['Attempts', 'Deducted', 'Deduction', 'Deductive', \n",
    "     'Expenditure', 'Give','Logic', 'Logical', \n",
    "     'Model', 'Natural', 'Naturally', 'Occurs',\n",
    "     'Profits','Reasoning', 'Taxation'], \n",
    "    ['ASCII', 'ATL', 'Cote', 'False', 'Flips',\n",
    "     'Input', 'Logic', 'Logical','Negation', \n",
    "     'Operation', 'Output', 'Returns', 'Takes', 'True'], \n",
    "    ['Commonly', 'Discourse', 'Element', 'Existence',\n",
    "     'Logic', 'Mirrored','Proposition', 'Quantifier', \n",
    "     'True', 'Universe', 'Written'], \n",
    "    ['Aristotle', 'Grammar', 'Implication', 'Logic',\n",
    "     'Man', 'Men','Mortal', 'Suggest', 'Syllogism',\n",
    "     'True', 'Wednesday']\n",
    "]\n",
    "\n",
    "dictionary = Dictionary()\n",
    "for sentence in sentences:\n",
    "        dictionary.doc2bow(sentence, allow_update=True, return_missing=True)\n",
    "inv_map = {v: k for k, v in dictionary.items()}"
   ]
  },
  {
   "cell_type": "code",
   "execution_count": 7,
   "metadata": {
    "collapsed": false,
    "scrolled": true
   },
   "outputs": [],
   "source": [
    "fimdata=[]\n",
    "for sentence in sentences:\n",
    "    in_numbers =[inv_map.get(word)for word in sentence]\n",
    "    fimdata.append(in_numbers) "
   ]
  },
  {
   "cell_type": "markdown",
   "metadata": {},
   "source": [
    "## Parameters\n",
    "* Minimum number of cases in evidence common to both\n",
    "* Minimum words in Association Rule, shorter rules more numerous\n",
    "* See import package documentation for options"
   ]
  },
  {
   "cell_type": "code",
   "execution_count": 8,
   "metadata": {
    "collapsed": true
   },
   "outputs": [],
   "source": [
    "min_examples=3\n",
    "min_setsize=4"
   ]
  },
  {
   "cell_type": "markdown",
   "metadata": {},
   "source": [
    "## Make models"
   ]
  },
  {
   "cell_type": "code",
   "execution_count": 9,
   "metadata": {
    "collapsed": false
   },
   "outputs": [],
   "source": [
    "w2v_model = gensim.models.Word2Vec\\\n",
    "(sentences, min_count=min_examples,size=1000)"
   ]
  },
  {
   "cell_type": "code",
   "execution_count": 10,
   "metadata": {
    "collapsed": false
   },
   "outputs": [],
   "source": [
    "association_rules = arules\\\n",
    "(fimdata, supp=-min_examples, zmin=min_setsize, report='a')"
   ]
  },
  {
   "cell_type": "markdown",
   "metadata": {},
   "source": [
    "## Compare results"
   ]
  },
  {
   "cell_type": "code",
   "execution_count": 11,
   "metadata": {
    "collapsed": false,
    "scrolled": true
   },
   "outputs": [
    {
     "name": "stdout",
     "output_type": "stream",
     "text": [
      "['Operation', 'False', 'True'] AR-> Logic <-W2V ['Logic', 'Takes']\n",
      "['Operation', 'False', 'Logic'] AR-> True <-W2V ['True', 'Takes']\n",
      "['Operation', 'True', 'Logic'] AR-> False <-W2V ['False', 'Takes']\n",
      "['False', 'True', 'Logic'] AR-> Operation <-W2V ['Takes', 'Operation']\n",
      "['Takes', 'False', 'True'] AR-> Logic <-W2V ['Logic', 'Operation']\n",
      "['Takes', 'False', 'Logic'] AR-> True <-W2V ['True', 'Operation']\n",
      "['Takes', 'True', 'Logic'] AR-> False <-W2V ['False', 'Operation']\n",
      "['False', 'True', 'Logic'] AR-> Takes <-W2V ['Takes', 'Operation']\n",
      "['Takes', 'Operation', 'True'] AR-> Logic <-W2V ['Logic', 'False']\n",
      "['Takes', 'Operation', 'Logic'] AR-> True <-W2V ['True', 'False']\n",
      "['Takes', 'True', 'Logic'] AR-> Operation <-W2V ['False', 'Operation']\n",
      "['Operation', 'True', 'Logic'] AR-> Takes <-W2V ['False', 'Takes']\n",
      "['Takes', 'Operation', 'False'] AR-> Logic <-W2V ['True', 'Logic']\n",
      "['Takes', 'Operation', 'Logic'] AR-> False <-W2V ['True', 'False']\n",
      "['Takes', 'False', 'Logic'] AR-> Operation <-W2V ['True', 'Operation']\n",
      "['Operation', 'False', 'Logic'] AR-> Takes <-W2V ['True', 'Takes']\n",
      "['Takes', 'Operation', 'False', 'True'] AR-> Logic <-W2V ['Logic', 'Logical']\n",
      "['Takes', 'Operation', 'False', 'Logic'] AR-> True <-W2V ['True', 'Logical']\n",
      "['Takes', 'Operation', 'True', 'Logic'] AR-> False <-W2V ['False', 'Logical']\n",
      "['Takes', 'False', 'True', 'Logic'] AR-> Operation <-W2V ['Operation', 'Logical']\n",
      "['Operation', 'False', 'True', 'Logic'] AR-> Takes <-W2V ['Takes', 'Logical']\n",
      "['Takes', 'Operation', 'False'] AR-> True <-W2V ['True', 'Logic']\n",
      "['Takes', 'Operation', 'True'] AR-> False <-W2V ['Logic', 'False']\n",
      "['Takes', 'False', 'True'] AR-> Operation <-W2V ['Logic', 'Operation']\n",
      "['Operation', 'False', 'True'] AR-> Takes <-W2V ['Logic', 'Takes']\n"
     ]
    }
   ],
   "source": [
    "for conclusion,premise,count in association_rules:\n",
    "    cue = [dictionary[x] for x in premise]\n",
    "    matches = w2v_model.most_similar(positive=cue, topn=2)\n",
    "    response = [m for m,c in matches]\n",
    "    print(cue,\"AR->\",dictionary[conclusion],\"<-W2V\",response)"
   ]
  },
  {
   "cell_type": "code",
   "execution_count": null,
   "metadata": {
    "collapsed": true
   },
   "outputs": [],
   "source": []
  },
  {
   "cell_type": "code",
   "execution_count": null,
   "metadata": {
    "collapsed": true
   },
   "outputs": [],
   "source": []
  }
 ],
 "metadata": {
  "anaconda-cloud": {
   "attach-environment": true,
   "summary": "w2v test"
  },
  "kernelspec": {
   "display_name": "Python [default]",
   "language": "python",
   "name": "python3"
  },
  "language_info": {
   "codemirror_mode": {
    "name": "ipython",
    "version": 3
   },
   "file_extension": ".py",
   "mimetype": "text/x-python",
   "name": "python",
   "nbconvert_exporter": "python",
   "pygments_lexer": "ipython3",
   "version": "3.5.2"
  },
  "nbpresent": {
   "slides": {
    "1e86d71f-db04-4154-84b7-983624b58a09": {
     "id": "1e86d71f-db04-4154-84b7-983624b58a09",
     "prev": "22f53042-f8a2-48c0-8beb-9b90dcaaad8a",
     "regions": {
      "ac4898d4-9b26-4498-9840-281654a19133": {
       "attrs": {
        "height": 0.8,
        "width": 0.8,
        "x": 0.1,
        "y": 0.1
       },
       "content": {
        "cell": "a5fec95c-e6f6-4fb2-85b6-887366216cd2",
        "part": "whole"
       },
       "id": "ac4898d4-9b26-4498-9840-281654a19133"
      }
     }
    },
    "22f53042-f8a2-48c0-8beb-9b90dcaaad8a": {
     "id": "22f53042-f8a2-48c0-8beb-9b90dcaaad8a",
     "prev": null,
     "regions": {
      "9f348fcc-cb8a-47b8-984f-df02eb4bfc76": {
       "attrs": {
        "height": 0.8,
        "width": 0.8,
        "x": 0.1,
        "y": 0.1
       },
       "content": {
        "cell": "e692e2f1-8671-4472-8b09-e8fb22f62be6",
        "part": "whole"
       },
       "id": "9f348fcc-cb8a-47b8-984f-df02eb4bfc76"
      }
     }
    },
    "23d30e65-3195-44b6-ac46-9d142a479098": {
     "id": "23d30e65-3195-44b6-ac46-9d142a479098",
     "prev": "da99ea4b-498a-467a-bd9e-f05f583ed414",
     "regions": {
      "c79ba6c2-c658-4af8-bc0f-abf45882477b": {
       "attrs": {
        "height": 0.8,
        "width": 0.8,
        "x": 0.1,
        "y": 0.1
       },
       "content": {
        "cell": "db68c180-68bf-4bdd-a496-d1d3cace19a6",
        "part": "whole"
       },
       "id": "c79ba6c2-c658-4af8-bc0f-abf45882477b"
      }
     }
    },
    "7d7d3285-e400-4887-a5ef-b7e0deee98ac": {
     "id": "7d7d3285-e400-4887-a5ef-b7e0deee98ac",
     "prev": "f9138da0-d6bb-4e17-827a-2cdb4748b3f3",
     "regions": {
      "6981c5cd-53d3-4602-948f-43be49df44ae": {
       "attrs": {
        "height": 0.8,
        "width": 0.8,
        "x": 0.1,
        "y": 0.1
       },
       "content": {
        "cell": "9903edfb-1eff-486d-8da2-469d56dcaa5d",
        "part": "whole"
       },
       "id": "6981c5cd-53d3-4602-948f-43be49df44ae"
      }
     }
    },
    "da99ea4b-498a-467a-bd9e-f05f583ed414": {
     "id": "da99ea4b-498a-467a-bd9e-f05f583ed414",
     "prev": "1e86d71f-db04-4154-84b7-983624b58a09",
     "regions": {
      "2f37a63e-f76d-4800-8e6f-f073fa818765": {
       "attrs": {
        "height": 0.8,
        "width": 0.8,
        "x": 0.1,
        "y": 0.1
       },
       "content": {
        "cell": "4c822cb5-e591-4d78-aa93-a8e4cd3fbcbb",
        "part": "whole"
       },
       "id": "2f37a63e-f76d-4800-8e6f-f073fa818765"
      }
     }
    },
    "f9138da0-d6bb-4e17-827a-2cdb4748b3f3": {
     "id": "f9138da0-d6bb-4e17-827a-2cdb4748b3f3",
     "prev": "23d30e65-3195-44b6-ac46-9d142a479098",
     "regions": {
      "ebfa075b-9b45-4967-a05d-335a0653b409": {
       "attrs": {
        "height": 0.8,
        "width": 0.8,
        "x": 0.1,
        "y": 0.1
       },
       "content": {
        "cell": "b3e18263-a221-4730-a196-0edf42a781a6",
        "part": "whole"
       },
       "id": "ebfa075b-9b45-4967-a05d-335a0653b409"
      }
     }
    }
   },
   "themes": {}
  }
 },
 "nbformat": 4,
 "nbformat_minor": 1
}
